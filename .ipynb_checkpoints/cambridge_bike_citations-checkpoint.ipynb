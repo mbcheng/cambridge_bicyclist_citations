{
 "cells": [
  {
   "cell_type": "code",
   "execution_count": 7,
   "metadata": {
    "collapsed": true
   },
   "outputs": [],
   "source": [
    "import pandas as pd"
   ]
  },
  {
   "cell_type": "code",
   "execution_count": 10,
   "metadata": {
    "collapsed": false
   },
   "outputs": [],
   "source": [
    "df = pd.read_csv(\"bikes_citations.csv\", delimiter=\",\", na_values=\"NaN\")  "
   ]
  },
  {
   "cell_type": "code",
   "execution_count": 11,
   "metadata": {
    "collapsed": false,
    "scrolled": true
   },
   "outputs": [
    {
     "data": {
      "text/html": [
       "<div>\n",
       "<table border=\"1\" class=\"dataframe\">\n",
       "  <thead>\n",
       "    <tr style=\"text-align: right;\">\n",
       "      <th></th>\n",
       "      <th>Citation Number</th>\n",
       "      <th>Date Time Issued</th>\n",
       "      <th>Street Number</th>\n",
       "      <th>Street Name</th>\n",
       "      <th>Cross Street</th>\n",
       "      <th>Charge Code</th>\n",
       "      <th>Charge Description</th>\n",
       "    </tr>\n",
       "  </thead>\n",
       "  <tbody>\n",
       "    <tr>\n",
       "      <th>0</th>\n",
       "      <td>R7121753</td>\n",
       "      <td>4/1/16 10:34</td>\n",
       "      <td>NaN</td>\n",
       "      <td>EXETER PK</td>\n",
       "      <td>MASSACHUSETTS AVE</td>\n",
       "      <td>85/11B</td>\n",
       "      <td>BICYCLE VIOLATION c85 S11B</td>\n",
       "    </tr>\n",
       "    <tr>\n",
       "      <th>1</th>\n",
       "      <td>R6854349</td>\n",
       "      <td>4/11/16 7:43</td>\n",
       "      <td>NaN</td>\n",
       "      <td>COLUMBIA ST</td>\n",
       "      <td>HAMPSHIRE ST</td>\n",
       "      <td>85/11B</td>\n",
       "      <td>BICYCLE VIOLATION c85 S11B</td>\n",
       "    </tr>\n",
       "    <tr>\n",
       "      <th>2</th>\n",
       "      <td>R7120893</td>\n",
       "      <td>4/13/16 16:55</td>\n",
       "      <td>NaN</td>\n",
       "      <td>MASSACHUSETTS AVE</td>\n",
       "      <td>SIDNEY ST</td>\n",
       "      <td>85/11B</td>\n",
       "      <td>BICYCLE VIOLATION c85 S11B</td>\n",
       "    </tr>\n",
       "    <tr>\n",
       "      <th>3</th>\n",
       "      <td>R6588477</td>\n",
       "      <td>4/13/16 17:00</td>\n",
       "      <td>NaN</td>\n",
       "      <td>MASSACHUSETTS AVE</td>\n",
       "      <td>SIDNEY ST</td>\n",
       "      <td>85/11B</td>\n",
       "      <td>BICYCLE VIOLATION c85 S11B</td>\n",
       "    </tr>\n",
       "    <tr>\n",
       "      <th>4</th>\n",
       "      <td>R6775879</td>\n",
       "      <td>4/13/16 17:00</td>\n",
       "      <td>NaN</td>\n",
       "      <td>MASSACHUSETTS AVE</td>\n",
       "      <td>SIDNEY ST</td>\n",
       "      <td>85/11B</td>\n",
       "      <td>BICYCLE VIOLATION c85 S11B</td>\n",
       "    </tr>\n",
       "  </tbody>\n",
       "</table>\n",
       "</div>"
      ],
      "text/plain": [
       "  Citation Number Date Time Issued Street Number        Street Name  \\\n",
       "0        R7121753     4/1/16 10:34           NaN          EXETER PK   \n",
       "1        R6854349     4/11/16 7:43           NaN        COLUMBIA ST   \n",
       "2        R7120893    4/13/16 16:55           NaN  MASSACHUSETTS AVE   \n",
       "3        R6588477    4/13/16 17:00           NaN  MASSACHUSETTS AVE   \n",
       "4        R6775879    4/13/16 17:00           NaN  MASSACHUSETTS AVE   \n",
       "\n",
       "        Cross Street Charge Code          Charge Description  \n",
       "0  MASSACHUSETTS AVE      85/11B  BICYCLE VIOLATION c85 S11B  \n",
       "1       HAMPSHIRE ST      85/11B  BICYCLE VIOLATION c85 S11B  \n",
       "2          SIDNEY ST      85/11B  BICYCLE VIOLATION c85 S11B  \n",
       "3          SIDNEY ST      85/11B  BICYCLE VIOLATION c85 S11B  \n",
       "4          SIDNEY ST      85/11B  BICYCLE VIOLATION c85 S11B  "
      ]
     },
     "execution_count": 11,
     "metadata": {},
     "output_type": "execute_result"
    }
   ],
   "source": [
    "df.head()"
   ]
  },
  {
   "cell_type": "code",
   "execution_count": 16,
   "metadata": {
    "collapsed": false
   },
   "outputs": [
    {
     "name": "stdout",
     "output_type": "stream",
     "text": [
      "Street Name                     Cross Street                  \n",
      "MASSACHUSETTS AVE               SIDNEY ST                         559\n",
      "INMAN ST                        MASSACHUSETTS AVE                 232\n",
      "BROOKLINE ST                    MASSACHUSETTS AVE                 201\n",
      "MASSACHUSETTS AVE               UPLAND RD                         147\n",
      "ESSEX ST                        MASSACHUSETTS AVE                 127\n",
      "BROADWAY                        HAMPSHIRE ST                      117\n",
      "BRATTLE ST                      JFK ST                            114\n",
      "CAMBRIDGE ST                    FIRST ST                          107\n",
      "HAMPSHIRE ST                    WINDSOR ST                        107\n",
      "ALBANY ST                       MASSACHUSETTS AVE                 106\n",
      "MASSACHUSETTS AVE               PROSPECT ST                       102\n",
      "BEECH ST                        MASSACHUSETTS AVE                  99\n",
      "MASSACHUSETTS AVE               VASSAR ST                          93\n",
      "                                ROSELAND ST                        75\n",
      "HOLYOKE ST                      MASSACHUSETTS AVE                  65\n",
      "AMES ST                         BROADWAY                           60\n",
      "MASSACHUSETTS AVE               SIDNEY ST EXT                      58\n",
      "                                SHEPARD ST                         56\n",
      "AMHERST ST                      MASSACHUSETTS AVE                  56\n",
      "EVERETT ST                      MASSACHUSETTS AVE                  54\n",
      "DOUGLASS ST                     MASSACHUSETTS AVE                  52\n",
      "CAMBRIDGE ST                    HAMPSHIRE ST                       51\n",
      "HAMPSHIRE ST                    PROSPECT ST                        44\n",
      "COLUMBIA ST                     HAMPSHIRE ST                       40\n",
      "MASSACHUSETTS AVE               PLEASANT ST                        38\n",
      "MASSACHUSETTS AVE               ROSELAND ST                        36\n",
      "MASSACHUSETTS AVE               PEARL ST                           36\n",
      "BEECH ST                        MASSACHUSETTS AVE                  34\n",
      "CAMBRIDGE ST                    THIRD ST                           32\n",
      "MASSACHUSETTS AVE               WATERHOUSE ST                      29\n",
      "                                                                 ... \n",
      "JFK                             BRATTLE                             1\n",
      "                                MASSACHUSETTS AVE                   1\n",
      "JFK ST                          WINTHROP ST                         1\n",
      "LAFAYETTE SQ                                                        1\n",
      "LANGDON ST                      MASSACHUSETTS AVE                   1\n",
      "HAMPSHIRE                       WINDSOR                             1\n",
      "LEE ST                          MASSACHUSETTS AVE                   1\n",
      "BROOKLINE ST                    ERIE ST                             1\n",
      "BROOKLINE ST                    MASSACHUSETTS AVE                   1\n",
      "BROOKLINE                       MASS AVE                            1\n",
      "BROADWAY ST                     FAYETTE ST                          1\n",
      "LINDEN ST                       MASSACHUSETTS AVE                   1\n",
      "HURON AVE                       RESERVOIR ST                        1\n",
      "CAMBRIDGE ST                    HAMPSHIRE ST                        1\n",
      "                                HUNTING ST                          1\n",
      "                                SIXTH ST                            1\n",
      "                                WARREN ST                           1\n",
      "HOWARD ST                       RIVER ST                            1\n",
      "HOMER AVE                       MT AUBURN ST                        1\n",
      "HOLYOKE ST                      MT AUBURN ST                        1\n",
      "HARVARD ST                      TROWBRIDGE ST                       1\n",
      "                                QUINCY ST                           1\n",
      "                                NORFOLK ST                          1\n",
      "CAMBRIDGE ST                    LAMBERT ST                          1\n",
      "                                OAK ST                              1\n",
      "HARVARD ST                      LEE ST                              1\n",
      "HAMPSHIRE ST                    INMAN ST                            1\n",
      "                                                                    1\n",
      "CAMBRIDGE ST                    SEVENTH ST                          1\n",
      "VASSAR                          MASSACHUSETTS AVE                   1\n",
      "dtype: int64\n"
     ]
    }
   ],
   "source": [
    "citations_by_street = df.groupby(['Street Name', 'Cross Street']).size().sort_values(ascending=False)\n",
    "print(citations_by_street)"
   ]
  },
  {
   "cell_type": "code",
   "execution_count": 17,
   "metadata": {
    "collapsed": true
   },
   "outputs": [],
   "source": [
    "citations_by_street.to_csv('bicyclist_citations_cambridge_final.csv')"
   ]
  }
 ],
 "metadata": {
  "anaconda-cloud": {},
  "kernelspec": {
   "display_name": "Python [Root]",
   "language": "python",
   "name": "Python [Root]"
  },
  "language_info": {
   "codemirror_mode": {
    "name": "ipython",
    "version": 2
   },
   "file_extension": ".py",
   "mimetype": "text/x-python",
   "name": "python",
   "nbconvert_exporter": "python",
   "pygments_lexer": "ipython2",
   "version": "2.7.12"
  }
 },
 "nbformat": 4,
 "nbformat_minor": 0
}
